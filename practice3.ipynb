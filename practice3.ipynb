{
 "cells": [
  {
   "cell_type": "markdown",
   "metadata": {},
   "source": [
    "MergeSort"
   ]
  },
  {
   "cell_type": "code",
   "execution_count": 40,
   "metadata": {},
   "outputs": [],
   "source": [
    "def merge_sort(list):\n",
    "    if len(list) <= 1:\n",
    "        return list\n",
    "    mid = len(list) // 2\n",
    "    leftList = list[:mid]\n",
    "    rightList = list[mid:]\n",
    "    leftList = merge_sort(leftList)\n",
    "    rightList = merge_sort(rightList)\n",
    "    return merge(leftList, rightList)"
   ]
  },
  {
   "cell_type": "code",
   "execution_count": 41,
   "metadata": {},
   "outputs": [],
   "source": [
    "def merge(left, right):\n",
    "    result = []\n",
    "    while len(left) > 0 or len(right) > 0:\n",
    "        if len(left) > 0 and len(right) > 0:\n",
    "            if left[0] <= right[0]:\n",
    "                result.append(left[0])\n",
    "                left = left[1:]\n",
    "            else:\n",
    "                result.append(right[0])\n",
    "                right = right[1:]\n",
    "        elif len(left) > 0:\n",
    "            result.append(left[0])\n",
    "            left = left[1:]\n",
    "        elif len(right) > 0:\n",
    "            result.append(right[0])\n",
    "            right = right[1:]\n",
    "    return result"
   ]
  },
  {
   "cell_type": "code",
   "execution_count": 43,
   "metadata": {},
   "outputs": [
    {
     "name": "stdout",
     "output_type": "stream",
     "text": [
      "n =  1000 일때 실행 시간은 0.007399320602416992\n",
      "n =  5000 일때 실행 시간은 0.05296683311462402\n",
      "n =  10000 일때 실행 시간은 0.14339995384216309\n",
      "n =  30000 일때 실행 시간은 1.132613182067871\n",
      "n =  50000 일때 실행 시간은 3.117408037185669\n",
      "n =  100000 일때 실행 시간은 12.703181982040405\n"
     ]
    }
   ],
   "source": [
    "import random, time\n",
    "#메인함수\n",
    "n = [1000, 5000, 10000, 30000, 50000,100000]\n",
    "excute_time = []\n",
    "for i in n:\n",
    "    arr = []\n",
    "    for j in range(i):\n",
    "        arr.append(random.randint(1,i))\n",
    "    start = time.time()\n",
    "    merge_sort(arr)\n",
    "    end = time.time()\n",
    "\n",
    "    excute_time.append(end - start)\n",
    "    print(\"n = \", i , \"일때 실행 시간은\", end - start)"
   ]
  },
  {
   "cell_type": "code",
   "execution_count": 44,
   "metadata": {},
   "outputs": [
    {
     "data": {
      "image/png": "[encoded data removed]",
      "text/plain": [
       "<Figure size 432x288 with 1 Axes>"
      ]
     },
     "metadata": {
      "needs_background": "light"
     },
     "output_type": "display_data"
    }
   ],
   "source": [
    "#배열의 크기 n에 따른 실행 시간 그래프\n",
    "import matplotlib.pyplot as plt\n",
    "\n",
    "plt.plot(n, excute_time)\n",
    "plt.show()"
   ]
  },
  {
   "cell_type": "markdown",
   "metadata": {},
   "source": [
    "#### Heap Sort"
   ]
  },
  {
   "cell_type": "code",
   "execution_count": 32,
   "metadata": {},
   "outputs": [],
   "source": [
    "def heap_sort(a):\n",
    "    n = len(a)-1\n",
    "    for i in range(n//2, 0, -1):\n",
    "        heapify(a, i, n)\n",
    "        \n",
    "    for i in range(n-1, 0, -1):\n",
    "        a[1], a[i+1] = a[i+1], a[1]\n",
    "        heapify(a, 1, i)\n",
    "    "
   ]
  },
  {
   "cell_type": "code",
   "execution_count": 33,
   "metadata": {},
   "outputs": [],
   "source": [
    "def heapify(a, h, m):\n",
    "    v = a[h]\n",
    "    i = h*2\n",
    "    while i<=m:\n",
    "        if i < m and a[i] < a[i+1]:\n",
    "            i += 1\n",
    "        if v >= a[i]:\n",
    "            break\n",
    "        else:\n",
    "            a[i//2] = a[i]\n",
    "        i *= 2\n",
    "    a[i//2] = v\n"
   ]
  },
  {
   "cell_type": "code",
   "execution_count": 38,
   "metadata": {},
   "outputs": [
    {
     "name": "stdout",
     "output_type": "stream",
     "text": [
      "n =  1000 일때 실행 시간은 0.002783060073852539\n",
      "n =  5000 일때 실행 시간은 0.01579427719116211\n",
      "n =  10000 일때 실행 시간은 0.03185296058654785\n",
      "n =  30000 일때 실행 시간은 0.10445880889892578\n",
      "n =  50000 일때 실행 시간은 0.18686819076538086\n",
      "n =  100000 일때 실행 시간은 0.41086530685424805\n"
     ]
    }
   ],
   "source": [
    "import random, time\n",
    "\n",
    "#메인함수\n",
    "n = [1000, 5000, 10000, 30000, 50000, 100000]\n",
    "excute_time = []\n",
    "for i in n:\n",
    "    arr = []\n",
    "    for j in range(i):\n",
    "        arr.append(random.randint(1,i))\n",
    "    start = time.time()\n",
    "    heap_sort(arr)\n",
    "    end = time.time()\n",
    "\n",
    "    excute_time.append(end - start)\n",
    "    print(\"n = \", i , \"일때 실행 시간은\", end - start)"
   ]
  },
  {
   "cell_type": "code",
   "execution_count": 39,
   "metadata": {},
   "outputs": [
    {
     "data": {
      "image/png": "[encoded data removed]",
      "text/plain": [
       "<Figure size 432x288 with 1 Axes>"
      ]
     },
     "metadata": {
      "needs_background": "light"
     },
     "output_type": "display_data"
    }
   ],
   "source": [
    "#배열의 크기 n에 따른 실행 시간 그래프\n",
    "import matplotlib.pyplot as plt\n",
    "\n",
    "plt.plot(n, excute_time)\n",
    "plt.show()\n"
   ]
  },
  {
   "cell_type": "markdown",
   "metadata": {},
   "source": [
    "### CocktailShakerSort"
   ]
  },
  {
   "cell_type": "code",
   "execution_count": 8,
   "metadata": {},
   "outputs": [],
   "source": [
    "def cocktailShakerSort(a, n):\n",
    "    d = True\n",
    "    i = 1\n",
    "    k = n\n",
    "    while i < k:\n",
    "        if d:\n",
    "            for j in range(i, k): \n",
    "                if a[k] < a[j]:\n",
    "                    a[k], a[j] = a[j], a[k]\n",
    "            k -= 1\n",
    "        else:\n",
    "            for j in range(i, k):\n",
    "                if a[1] > a[j]:\n",
    "                    a[1], a[j] = a[j], a[1]\n",
    "            i += 1\n",
    "        \n",
    "    return a"
   ]
  },
  {
   "cell_type": "code",
   "execution_count": 11,
   "metadata": {},
   "outputs": [
    {
     "name": "stdout",
     "output_type": "stream",
     "text": [
      "n =  1000 일때 실행 시간은 0.03715395927429199\n",
      "n =  5000 일때 실행 시간은 0.9126620292663574\n",
      "n =  10000 일때 실행 시간은 3.6722750663757324\n",
      "n =  30000 일때 실행 시간은 33.47925090789795\n",
      "n =  50000 일때 실행 시간은 92.80436992645264\n"
     ]
    }
   ],
   "source": [
    "import random, time\n",
    "\n",
    "#메인함수\n",
    "n = [1000, 5000, 10000, 30000, 50000]\n",
    "excute_time = []\n",
    "for i in n:\n",
    "    arr = []\n",
    "    for j in range(i):\n",
    "        arr.append(random.randint(1,i))\n",
    "    start = time.time()\n",
    "    cocktailShakerSort(arr, len(arr)-1)\n",
    "    end = time.time()\n",
    "\n",
    "    excute_time.append(end - start)\n",
    "    print(\"n = \", i , \"일때 실행 시간은\", end - start)\n",
    "    \n",
    "    \n"
   ]
  },
  {
   "cell_type": "code",
   "execution_count": 14,
   "metadata": {},
   "outputs": [
    {
     "data": {
      "image/png": "[encoded data removed]",
      "text/plain": [
       "<Figure size 432x288 with 1 Axes>"
      ]
     },
     "metadata": {
      "needs_background": "light"
     },
     "output_type": "display_data"
    }
   ],
   "source": [
    "import matplotlib.pyplot as plt\n",
    "\n",
    "plt.plot(n, excute_time)\n",
    "plt.show()"
   ]
  },
  {
   "cell_type": "code",
   "execution_count": null,
   "metadata": {},
   "outputs": [],
   "source": []
  }
 ],
 "metadata": {
  "interpreter": {
   "hash": "aee8b7b246df8f9039afb4144a1f6fd8d2ca17a180786b69acc140d282b71a49"
  },
  "kernelspec": {
   "display_name": "Python 3.10.6 64-bit",
   "language": "python",
   "name": "python3"
  },
  "language_info": {
   "codemirror_mode": {
    "name": "ipython",
    "version": 3
   },
   "file_extension": ".py",
   "mimetype": "text/x-python",
   "name": "python",
   "nbconvert_exporter": "python",
   "pygments_lexer": "ipython3",
   "version": "3.9.12"
  },
  "orig_nbformat": 4
 },
 "nbformat": 4,
 "nbformat_minor": 2
}
