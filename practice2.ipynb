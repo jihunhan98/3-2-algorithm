{
 "cells": [
  {
   "cell_type": "markdown",
   "metadata": {},
   "source": [
    "### Insertion Sort"
   ]
  },
  {
   "cell_type": "code",
   "execution_count": 21,
   "metadata": {},
   "outputs": [],
   "source": [
    "#key값을 인덱스 -1씩해서 보다 작은 값을 만날때까지 반복문\n",
    "def insertion_sort(A):\n",
    "    for i in range(1, len(A)):\n",
    "        key = A[i]\n",
    "        j = i - 1\n",
    "        while j > -1 and A[j] > key:\n",
    "            A[j+1] = A[j]\n",
    "            j = j - 1\n",
    "        A[j+1] = key\n",
    "    return A"
   ]
  },
  {
   "cell_type": "code",
   "execution_count": 22,
   "metadata": {},
   "outputs": [
    {
     "name": "stdout",
     "output_type": "stream",
     "text": [
      "[1, 2, 2, 3, 3, 4, 5, 6, 7, 8]\n"
     ]
    }
   ],
   "source": [
    "#확인\n",
    "list = [3,2,5,1,6,8,3,7,4,2]\n",
    "print(insertion_sort(list))"
   ]
  },
  {
   "cell_type": "markdown",
   "metadata": {},
   "source": [
    "### Shell Sort"
   ]
  },
  {
   "cell_type": "code",
   "execution_count": 67,
   "metadata": {},
   "outputs": [
    {
     "data": {
      "text/plain": [
       "[-1, 1, 2, 3, 4, 5, 6, 7, 8, 9, 10, 11, 12, 13, 14, 14, 15]"
      ]
     },
     "execution_count": 67,
     "metadata": {},
     "output_type": "execute_result"
    }
   ],
   "source": [
    "def shellsort(a, n):\n",
    "    h= 0\n",
    "    while h < n:\n",
    "        h = 3*h+1\n",
    "    while h > 0:\n",
    "        h = h // 3\n",
    "        if h == 0:\n",
    "            break\n",
    "        for i in range(h+1, n+1):\n",
    "            v = a[i]\n",
    "            j = i\n",
    "\n",
    "            while (j > h and a[j - h] > v):\n",
    "                a[j] = a[j - h]\n",
    "                j -= h\n",
    "            a[j] = v\n",
    "    return a\n",
    "\n",
    "\n",
    "a = [-1,3,1,14,12,4,10,13,15,5,2,7,9,6,8,11,14]\n",
    "n = len(a)-1\n",
    "shellsort(a, n)"
   ]
  },
  {
   "cell_type": "code",
   "execution_count": 57,
   "metadata": {},
   "outputs": [
    {
     "data": {
      "text/plain": [
       "[15, 1, 2, 4, 5, 6, 7, 8, 9, 10, 11, 12, 13, 14, 14, 15]"
      ]
     },
     "execution_count": 57,
     "metadata": {},
     "output_type": "execute_result"
    }
   ],
   "source": [
    "a = [3,1,14,12,4,10,13,15,5,2,7,9,6,8,11,14]\n",
    "shell_sort(a, len(a)-1)"
   ]
  },
  {
   "cell_type": "markdown",
   "metadata": {},
   "source": [
    "### Quick Sort\n",
    "\n",
    "> 참고 : https://heytech.tistory.com/59"
   ]
  },
  {
   "cell_type": "code",
   "execution_count": 74,
   "metadata": {},
   "outputs": [],
   "source": [
    "def quick_sort(a, start, end):\n",
    "    if start >= end: \n",
    "        return\n",
    "    pivot = start\n",
    "    left = start + 1\n",
    "    right = end\n",
    "    while left < right:\n",
    "        #pivot보다 큰 left 구하기\n",
    "        while left < end and pivot > a[left]:\n",
    "            left += 1\n",
    "        #pivot보다 작은 right 구하기\n",
    "\n",
    "        while right > start and pivot < a[right]:\n",
    "            right -= 1\n",
    "\n",
    "        if left < right:\n",
    "            a[left], a[right] = a[right], a[left]\n",
    "        else:\n",
    "            a[pivot], a[right] = a[right], a[pivot]\n",
    "    quick_sort(a, 0, right-1)\n",
    "    quick_sort(a, right+1, end)\n",
    "\n",
    "    return a\n",
    "    \n",
    "        "
   ]
  },
  {
   "cell_type": "code",
   "execution_count": 75,
   "metadata": {},
   "outputs": [
    {
     "name": "stdout",
     "output_type": "stream",
     "text": [
      "[0, 1, 2, 3, 4, 5, 6, 8, 7, 9]\n"
     ]
    }
   ],
   "source": [
    "arr = [5, 8, 0, 9, 6, 1, 2, 4, 7, 3]\n",
    "print(quick_sort(arr, 0, len(arr)-1))"
   ]
  }
 ],
 "metadata": {
  "interpreter": {
   "hash": "aee8b7b246df8f9039afb4144a1f6fd8d2ca17a180786b69acc140d282b71a49"
  },
  "kernelspec": {
   "display_name": "Python 3.10.6 64-bit",
   "language": "python",
   "name": "python3"
  },
  "language_info": {
   "codemirror_mode": {
    "name": "ipython",
    "version": 3
   },
   "file_extension": ".py",
   "mimetype": "text/x-python",
   "name": "python",
   "nbconvert_exporter": "python",
   "pygments_lexer": "ipython3",
   "version": "3.10.6"
  },
  "orig_nbformat": 4
 },
 "nbformat": 4,
 "nbformat_minor": 2
}
