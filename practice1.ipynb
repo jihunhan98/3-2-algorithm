{
 "cells": [
  {
   "cell_type": "markdown",
   "metadata": {},
   "source": [
    "선택 정렬 구현"
   ]
  },
  {
   "cell_type": "code",
   "execution_count": null,
   "metadata": {},
   "outputs": [],
   "source": [
    "a = [3, 2, 5,]"
   ]
  },
  {
   "cell_type": "code",
   "execution_count": 43,
   "metadata": {},
   "outputs": [],
   "source": [
    "#파이썬 구현\n",
    "def selectionSort(a, n):\n",
    "    for i in range(n):\n",
    "        min = i\n",
    "        for j in range(i+1, n):\n",
    "            if a[min] > a[j]:\n",
    "                min = j\n",
    "        a[min], a[i] = a[i], a[min]\n",
    "    return a"
   ]
  },
  {
   "cell_type": "code",
   "execution_count": 59,
   "metadata": {},
   "outputs": [
    {
     "name": "stdout",
     "output_type": "stream",
     "text": [
      "[1, 2, 2, 3, 5, 5, 6, 7, 9, 10]\n",
      "정렬 완료\n",
      "None\n"
     ]
    }
   ],
   "source": [
    "a = [5,7,2,5,1,6,2,3,9,10]\n",
    "print(selectionSort(a, len(a)))\n",
    "print(checkSort(a, len(a)-1))"
   ]
  },
  {
   "cell_type": "markdown",
   "metadata": {},
   "source": [
    "####시험이 나온다면 이렇게(선택 정렬)\n",
    "def selectionSort(a, n):\n",
    "    for(...) do {\n",
    "        ...;\n",
    "        for(...) do\n",
    "            if(...)then...\n",
    "        ...;        \n",
    "    }\n",
    "end selectionSort()"
   ]
  },
  {
   "cell_type": "markdown",
   "metadata": {},
   "source": [
    "#### 버블 정렬 \n",
    "\n",
    "- 레코드를 계속 교환하므로, 레코드의 크기가 큰 경우는 불리하다.\n",
    "\n",
    "- 거의 정렬이 된 데이터에서 굉장히 유리하다.\n",
    "\n",
    "- 안정적인 제자리 정렬임"
   ]
  },
  {
   "cell_type": "code",
   "execution_count": 52,
   "metadata": {},
   "outputs": [],
   "source": [
    "#버블정렬 파이썬 구현\n",
    "def bubbleSort(list, n):\n",
    "    for i in range(n-1):\n",
    "        for j in range(i+1, n):\n",
    "            if list[i] > list[j]:\n",
    "                list[i], list[j] = list[j], list[i]\n",
    "    return list\n"
   ]
  },
  {
   "cell_type": "code",
   "execution_count": 60,
   "metadata": {},
   "outputs": [
    {
     "name": "stdout",
     "output_type": "stream",
     "text": [
      "[1, 2, 2, 3, 3, 4, 4, 5, 6, 7]\n",
      "정렬 완료\n",
      "None\n"
     ]
    }
   ],
   "source": [
    "#메인 함수\n",
    "a = [4,2,3,5,1,6,7,3,4,2]\n",
    "print(bubbleSort(a, len(a)))\n",
    "print(checkSort(a, len(a)-1))"
   ]
  },
  {
   "cell_type": "markdown",
   "metadata": {},
   "source": [
    "#### 삽입 정렬 \n",
    "\n",
    "- 레코드를 계속 이동시켜야 하므로 레코드의 크기가 큰 경우에 불리\n",
    "\n",
    "- 거의 정렬이 된 화일인 경우 유리 \n",
    "\n",
    "- 안정적인 제자리 정렬\n",
    "\n",
    "- 더미(dummy) 키가 필요함"
   ]
  },
  {
   "cell_type": "code",
   "execution_count": null,
   "metadata": {},
   "outputs": [],
   "source": [
    "#삽입정렬 파이썬 구현\n"
   ]
  },
  {
   "cell_type": "markdown",
   "metadata": {},
   "source": [
    "#### 이진 탐색 \n",
    "\n",
    "- 레코드를 계속 이동시켜야 하므로 레코드의 크기가 큰 경우에 불리\n",
    "\n",
    "- 거의 정렬이 된 화일인 경우 유리 \n",
    "\n",
    "- 안정적인 제자리 정렬\n",
    "\n",
    "- 더미(dummy) 키가 필요함"
   ]
  },
  {
   "cell_type": "code",
   "execution_count": 51,
   "metadata": {},
   "outputs": [],
   "source": [
    "import math\n",
    "#이진탐색 파이썬 구현\n",
    "def binarySerach(a, key):\n",
    "    left = 0\n",
    "    right = len(a)\n",
    "    while(left <= right):\n",
    "        if left <= right:\n",
    "            mid = math.floor((left + right) / 2)\n",
    "            if key < a[mid]:\n",
    "                right = mid -1\n",
    "            elif key > a[mid]:\n",
    "                left = mid + 1\n",
    "            else:\n",
    "                return mid\n",
    "        else:\n",
    "            return -1\n",
    "    "
   ]
  },
  {
   "cell_type": "code",
   "execution_count": 49,
   "metadata": {},
   "outputs": [
    {
     "name": "stdout",
     "output_type": "stream",
     "text": [
      "2\n"
     ]
    }
   ],
   "source": [
    "#이진 탐색 메인 함수\n",
    "A = [-1, 2, 5, 7, 8, 9, 11, 12, 15, 17, 19]\n",
    "\n",
    "key = int(input('key = '))\n",
    "print(binarySerach(A, key))"
   ]
  },
  {
   "cell_type": "code",
   "execution_count": 20,
   "metadata": {},
   "outputs": [],
   "source": [
    "#정렬 확인 함수\n",
    "def checkSort(a, n):\n",
    "    isSorted = True\n",
    "    for i in range(1, n):\n",
    "        if (a[i] > a[i+1]):\n",
    "            isSorted = False\n",
    "        if (not isSorted):\n",
    "            break\n",
    "    if isSorted:\n",
    "        print(\"정렬 완료\")\n",
    "    else:\n",
    "        print(\"정렬 오류 발생\")\n"
   ]
  },
  {
   "cell_type": "code",
   "execution_count": 16,
   "metadata": {},
   "outputs": [],
   "source": [
    "#에라토스테네스의 체로 소수 구하기 함수\n",
    "\n",
    "def eratos(a, n):\n",
    "    a[0] = 0\n",
    "    a[1] = 0\n",
    "    \n",
    "    for i in range(2, n):\n",
    "        if a[i] == 1:\n",
    "            for j in range(i*2, n, i):\n",
    "                a[j] = 0\n",
    "    return a"
   ]
  },
  {
   "cell_type": "code",
   "execution_count": 31,
   "metadata": {},
   "outputs": [
    {
     "name": "stdout",
     "output_type": "stream",
     "text": [
      "2\n",
      "3\n",
      "5\n",
      "7\n",
      "11\n",
      "13\n",
      "17\n",
      "19\n",
      "23\n",
      "29\n",
      "31\n",
      "37\n",
      "41\n",
      "43\n",
      "47\n",
      "53\n",
      "59\n",
      "61\n",
      "67\n",
      "71\n",
      "73\n",
      "79\n",
      "83\n",
      "89\n",
      "97\n",
      "101\n",
      "103\n",
      "107\n",
      "109\n",
      "113\n",
      "127\n",
      "131\n",
      "137\n",
      "139\n",
      "149\n",
      "151\n",
      "157\n",
      "163\n",
      "167\n",
      "173\n",
      "179\n",
      "181\n",
      "191\n",
      "193\n",
      "197\n",
      "199\n",
      "211\n",
      "223\n",
      "227\n",
      "229\n",
      "233\n",
      "239\n",
      "241\n",
      "251\n",
      "257\n",
      "263\n",
      "269\n",
      "271\n",
      "277\n",
      "281\n",
      "283\n",
      "293\n",
      "307\n",
      "311\n",
      "313\n",
      "317\n",
      "331\n",
      "337\n",
      "347\n",
      "349\n",
      "353\n",
      "359\n",
      "367\n",
      "373\n",
      "379\n",
      "383\n",
      "389\n",
      "397\n",
      "401\n",
      "409\n",
      "419\n",
      "421\n",
      "431\n",
      "433\n",
      "439\n",
      "443\n",
      "449\n",
      "457\n",
      "461\n",
      "463\n",
      "467\n",
      "479\n",
      "487\n",
      "491\n",
      "499\n",
      "503\n",
      "509\n",
      "521\n",
      "523\n",
      "541\n",
      "547\n",
      "557\n",
      "563\n",
      "569\n",
      "571\n",
      "577\n",
      "587\n",
      "593\n",
      "599\n",
      "601\n",
      "607\n",
      "613\n",
      "617\n",
      "619\n",
      "631\n",
      "641\n",
      "643\n",
      "647\n",
      "653\n",
      "659\n",
      "661\n",
      "673\n",
      "677\n",
      "683\n",
      "691\n",
      "701\n",
      "709\n",
      "719\n",
      "727\n",
      "733\n",
      "739\n",
      "743\n",
      "751\n",
      "757\n",
      "761\n",
      "769\n",
      "773\n",
      "787\n",
      "797\n",
      "809\n",
      "811\n",
      "821\n",
      "823\n",
      "827\n",
      "829\n",
      "839\n",
      "853\n",
      "857\n",
      "859\n",
      "863\n",
      "877\n",
      "881\n",
      "883\n",
      "887\n",
      "907\n",
      "911\n",
      "919\n",
      "929\n",
      "937\n",
      "941\n",
      "947\n",
      "953\n",
      "967\n",
      "971\n",
      "977\n",
      "983\n",
      "991\n",
      "997\n"
     ]
    }
   ],
   "source": [
    "#에라토스테네스의 체로 소수 구하기 메인\n",
    "\n",
    "list = []\n",
    "\n",
    "for i in range(1000):\n",
    "    list.append(1)\n",
    "\n",
    "prime_number = eratos(list, 1000)\n",
    "\n",
    "for i in range(len(prime_number)):\n",
    "    if prime_number[i] == 1:\n",
    "        print(i)"
   ]
  },
  {
   "cell_type": "code",
   "execution_count": null,
   "metadata": {},
   "outputs": [],
   "source": []
  }
 ],
 "metadata": {
  "interpreter": {
   "hash": "aee8b7b246df8f9039afb4144a1f6fd8d2ca17a180786b69acc140d282b71a49"
  },
  "kernelspec": {
   "display_name": "Python 3.10.6 64-bit",
   "language": "python",
   "name": "python3"
  },
  "language_info": {
   "codemirror_mode": {
    "name": "ipython",
    "version": 3
   },
   "file_extension": ".py",
   "mimetype": "text/x-python",
   "name": "python",
   "nbconvert_exporter": "python",
   "pygments_lexer": "ipython3",
   "version": "3.10.6"
  },
  "orig_nbformat": 4
 },
 "nbformat": 4,
 "nbformat_minor": 2
}
